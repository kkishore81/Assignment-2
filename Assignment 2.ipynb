{
 "cells": [
  {
   "cell_type": "code",
   "execution_count": null,
   "id": "585c050e-1c0d-498f-b5e7-6b8cc9e6b24e",
   "metadata": {},
   "outputs": [],
   "source": [
    "#Q1. How do you comment code in Python? What are the different types of comments?"
   ]
  },
  {
   "cell_type": "code",
   "execution_count": 4,
   "id": "d2205e9f-e310-42b6-a84c-ef655506cf1b",
   "metadata": {},
   "outputs": [
    {
     "data": {
      "text/plain": [
       "'There are two main types of comments in Python: single-line comments and multi-line comments.\\n Single-line comments start with the hash symbol (#) and continue to the end of the line.\\nMulti-line comments can be created by using three double quotes (\"\"\") or three single quotes'"
      ]
     },
     "execution_count": 4,
     "metadata": {},
     "output_type": "execute_result"
    }
   ],
   "source": [
    "'''There are two main types of comments in Python: single-line comments and multi-line comments.\n",
    " Single-line comments start with the hash symbol (#) and continue to the end of the line.\n",
    "Multi-line comments can be created by using three double quotes (\"\"\") or three single quotes'''\n"
   ]
  },
  {
   "cell_type": "code",
   "execution_count": 6,
   "id": "10ceda6e-6d46-4674-bfb3-27cd12a71757",
   "metadata": {},
   "outputs": [
    {
     "data": {
      "text/plain": [
       "' Q2. What are variables in Python? How do you declare and assign values to variables?'"
      ]
     },
     "execution_count": 6,
     "metadata": {},
     "output_type": "execute_result"
    }
   ],
   "source": [
    "# Q2. What are variables in Python? How do you declare and assign values to variables?'''"
   ]
  },
  {
   "cell_type": "code",
   "execution_count": 8,
   "id": "fd9a12ab-05b7-44c4-b1e6-409553670001",
   "metadata": {},
   "outputs": [],
   "source": [
    "#A variable in Python is a name given too store data or values."
   ]
  },
  {
   "cell_type": "code",
   "execution_count": 14,
   "id": "8f68e726-20c8-4eca-9658-729ba93bb04f",
   "metadata": {},
   "outputs": [],
   "source": [
    "Variable = 'assign value'"
   ]
  },
  {
   "cell_type": "code",
   "execution_count": 15,
   "id": "8fdd0ac8-1c39-417e-b95b-a881ffa54bfb",
   "metadata": {},
   "outputs": [
    {
     "data": {
      "text/plain": [
       "'assign value'"
      ]
     },
     "execution_count": 15,
     "metadata": {},
     "output_type": "execute_result"
    }
   ],
   "source": [
    "Variable"
   ]
  },
  {
   "cell_type": "code",
   "execution_count": null,
   "id": "9bfd7e74-a4fe-40bd-b248-5f3ca68e6d42",
   "metadata": {},
   "outputs": [],
   "source": [
    "# Q3 How do you convert one data type to another in Python?"
   ]
  },
  {
   "cell_type": "code",
   "execution_count": null,
   "id": "7a64833d-46a2-4e5c-85b4-33596b8842ac",
   "metadata": {},
   "outputs": [],
   "source": [
    "# there are various inbuilt function to convert one data type to another for eg\n",
    "int() to convert data to integer \n",
    "str() to convert data type to string"
   ]
  },
  {
   "cell_type": "code",
   "execution_count": null,
   "id": "13c91cb9-19f1-4923-b074-e79f9837b93c",
   "metadata": {},
   "outputs": [],
   "source": [
    "# Q4. How do you write and execute a Python script from the command line?"
   ]
  },
  {
   "cell_type": "code",
   "execution_count": 16,
   "id": "3f5b99a3-1109-4455-9724-e69ce9ef9b2e",
   "metadata": {},
   "outputs": [
    {
     "data": {
      "text/plain": [
       "\"Create a new text file and save it with a .py extension.\\nWrite your Python code in the text file.\\nSave the text file for eg the name can be 'pwskill.py'and close it.\\nOpen a command prompt \\nNavigate to the directory where we have saved our Python script.\\nthen we need to Type the following command to execute our Python script:\\npython pwskill.py\""
      ]
     },
     "execution_count": 16,
     "metadata": {},
     "output_type": "execute_result"
    }
   ],
   "source": [
    "'''Create a new text file and save it with a .py extension.\n",
    "Write your Python code in the text file.\n",
    "Save the text file for eg the name can be 'pwskill.py'and close it.\n",
    "Open a command prompt \n",
    "Navigate to the directory where we have saved our Python script.\n",
    "then we need to Type the following command to execute our Python script:\n",
    "python pwskill.py'''"
   ]
  },
  {
   "cell_type": "code",
   "execution_count": null,
   "id": "b917d1a6-8c18-4c5b-80e8-1954af84e0a1",
   "metadata": {},
   "outputs": [],
   "source": [
    "#Q5. Given a list my_list = [1, 2, 3, 4, 5], write the code to slice the list and obtain the sub-list [2, 3]."
   ]
  },
  {
   "cell_type": "code",
   "execution_count": 17,
   "id": "25069be0-f488-44c0-ad9e-072ed2d4a267",
   "metadata": {},
   "outputs": [],
   "source": [
    "my_list = [1,2,3,4,5]"
   ]
  },
  {
   "cell_type": "code",
   "execution_count": 24,
   "id": "822ca14b-2e1f-487a-bb82-e9fa1c155999",
   "metadata": {},
   "outputs": [
    {
     "data": {
      "text/plain": [
       "[2, 3]"
      ]
     },
     "execution_count": 24,
     "metadata": {},
     "output_type": "execute_result"
    }
   ],
   "source": [
    "my_list [1:3]"
   ]
  },
  {
   "cell_type": "code",
   "execution_count": null,
   "id": "0710df77-3614-42b8-92e2-f3b8c374c971",
   "metadata": {},
   "outputs": [],
   "source": [
    "#Q6. What is a complex number in mathematics, and how is it represented in Python?"
   ]
  },
  {
   "cell_type": "code",
   "execution_count": null,
   "id": "1fa7b70b-d2a8-41de-bb4d-94c05470e8ee",
   "metadata": {},
   "outputs": [],
   "source": [
    "#complex no is a combination of real and imaginary number.\n"
   ]
  },
  {
   "cell_type": "code",
   "execution_count": 26,
   "id": "9e4ec789-b8e4-4819-9385-4e1d29aed9a3",
   "metadata": {},
   "outputs": [],
   "source": [
    "complex_num = 2 + 5J"
   ]
  },
  {
   "cell_type": "code",
   "execution_count": 27,
   "id": "f89574f3-36c8-4d82-87b2-54c7c66b296c",
   "metadata": {},
   "outputs": [
    {
     "data": {
      "text/plain": [
       "complex"
      ]
     },
     "execution_count": 27,
     "metadata": {},
     "output_type": "execute_result"
    }
   ],
   "source": [
    "type(complex_num)"
   ]
  },
  {
   "cell_type": "code",
   "execution_count": null,
   "id": "3720b3cd-8809-4b8d-943e-19afa8281571",
   "metadata": {},
   "outputs": [],
   "source": [
    "#Q7. What is the correct way to declare a variable named age and assign the value 25 to it?"
   ]
  },
  {
   "cell_type": "code",
   "execution_count": 28,
   "id": "063148b7-b89b-4fb1-916b-9dd418abf977",
   "metadata": {},
   "outputs": [],
   "source": [
    "age = 25"
   ]
  },
  {
   "cell_type": "code",
   "execution_count": 29,
   "id": "41ca3845-9892-4032-bd4c-0ca76cfdb9bf",
   "metadata": {},
   "outputs": [
    {
     "data": {
      "text/plain": [
       "25"
      ]
     },
     "execution_count": 29,
     "metadata": {},
     "output_type": "execute_result"
    }
   ],
   "source": [
    "age"
   ]
  },
  {
   "cell_type": "code",
   "execution_count": null,
   "id": "06aba51f-9511-4b47-bccd-b680d073454d",
   "metadata": {},
   "outputs": [],
   "source": [
    "#Q8. Declare a variable named price and assign the value 9.99 to it. What data type does this variable\n",
    "belong to?"
   ]
  },
  {
   "cell_type": "code",
   "execution_count": 30,
   "id": "192a3e02-76c9-4ef7-8fc2-169f71dde774",
   "metadata": {},
   "outputs": [],
   "source": [
    "price = 9.99"
   ]
  },
  {
   "cell_type": "code",
   "execution_count": 31,
   "id": "9d73ebc4-85cd-4bca-8f8e-1e558b929fa9",
   "metadata": {},
   "outputs": [
    {
     "data": {
      "text/plain": [
       "9.99"
      ]
     },
     "execution_count": 31,
     "metadata": {},
     "output_type": "execute_result"
    }
   ],
   "source": [
    "price"
   ]
  },
  {
   "cell_type": "code",
   "execution_count": 32,
   "id": "55924bc4-beb5-43a2-b33b-940f9be78216",
   "metadata": {},
   "outputs": [
    {
     "data": {
      "text/plain": [
       "float"
      ]
     },
     "execution_count": 32,
     "metadata": {},
     "output_type": "execute_result"
    }
   ],
   "source": [
    "type(price)"
   ]
  },
  {
   "cell_type": "code",
   "execution_count": null,
   "id": "163dc1fb-85cd-4850-ad07-dd27d7e832db",
   "metadata": {},
   "outputs": [],
   "source": [
    "# type is float"
   ]
  },
  {
   "cell_type": "code",
   "execution_count": null,
   "id": "1422e868-15ba-4884-b022-f8cf47bc8013",
   "metadata": {},
   "outputs": [],
   "source": [
    "# Q 9 Create a variable named name and assign your full name to it as a string. How would you print the\n",
    "value of this variable?"
   ]
  },
  {
   "cell_type": "code",
   "execution_count": 33,
   "id": "98b204a0-96f6-4454-b8a0-7917cba99a4c",
   "metadata": {},
   "outputs": [],
   "source": [
    "Name = 'Kaushal Kishore'"
   ]
  },
  {
   "cell_type": "code",
   "execution_count": 34,
   "id": "9d992c54-ab8c-4422-a94f-8214a7a3b48a",
   "metadata": {},
   "outputs": [
    {
     "data": {
      "text/plain": [
       "str"
      ]
     },
     "execution_count": 34,
     "metadata": {},
     "output_type": "execute_result"
    }
   ],
   "source": [
    "type(Name)"
   ]
  },
  {
   "cell_type": "code",
   "execution_count": 35,
   "id": "bc72e56d-5b28-45bf-b8f2-1b0792b85379",
   "metadata": {},
   "outputs": [
    {
     "name": "stdout",
     "output_type": "stream",
     "text": [
      "Kaushal Kishore\n"
     ]
    }
   ],
   "source": [
    "print(Name)"
   ]
  },
  {
   "cell_type": "code",
   "execution_count": null,
   "id": "1e67f10a-d1d1-4e9b-854b-26c9f03e10b0",
   "metadata": {},
   "outputs": [],
   "source": [
    "# Q 10 Given the string \"Hello, World!\", extract the substring \"World\"."
   ]
  },
  {
   "cell_type": "code",
   "execution_count": 36,
   "id": "189fa086-8fa6-4c15-9222-01d125de2895",
   "metadata": {},
   "outputs": [],
   "source": [
    "s = \" Hello World\""
   ]
  },
  {
   "cell_type": "code",
   "execution_count": 41,
   "id": "627bafad-03eb-4796-8a4b-73be8daf29f4",
   "metadata": {},
   "outputs": [
    {
     "data": {
      "text/plain": [
       "' World'"
      ]
     },
     "execution_count": 41,
     "metadata": {},
     "output_type": "execute_result"
    }
   ],
   "source": [
    "s[6:12]"
   ]
  },
  {
   "cell_type": "code",
   "execution_count": null,
   "id": "4ddfce12-f94a-435c-af4f-3f4bd6bddf91",
   "metadata": {},
   "outputs": [],
   "source": [
    "#Q11. Create a variable named \"is_student\" and assign it a boolean value indicating whether you are\n",
    "currently a student or not."
   ]
  },
  {
   "cell_type": "code",
   "execution_count": 50,
   "id": "0293acc5-fb83-4145-90a7-2fc51384c548",
   "metadata": {},
   "outputs": [],
   "source": [
    "is_student = False"
   ]
  },
  {
   "cell_type": "code",
   "execution_count": 51,
   "id": "07cb7c54-9e51-4434-843d-7fde62225d8a",
   "metadata": {},
   "outputs": [
    {
     "data": {
      "text/plain": [
       "bool"
      ]
     },
     "execution_count": 51,
     "metadata": {},
     "output_type": "execute_result"
    }
   ],
   "source": [
    "type(is_student)"
   ]
  }
 ],
 "metadata": {
  "kernelspec": {
   "display_name": "Python 3 (ipykernel)",
   "language": "python",
   "name": "python3"
  },
  "language_info": {
   "codemirror_mode": {
    "name": "ipython",
    "version": 3
   },
   "file_extension": ".py",
   "mimetype": "text/x-python",
   "name": "python",
   "nbconvert_exporter": "python",
   "pygments_lexer": "ipython3",
   "version": "3.10.8"
  }
 },
 "nbformat": 4,
 "nbformat_minor": 5
}
